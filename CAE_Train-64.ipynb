{
 "cells": [
  {
   "cell_type": "code",
   "execution_count": 1,
   "id": "885ec24f",
   "metadata": {},
   "outputs": [],
   "source": [
    "import tensorflow as tf\n",
    "from tensorflow import keras\n",
    "from tensorflow.keras.models import Sequential\n",
    "from tensorflow.keras.layers import Dense, InputLayer, Flatten, Conv2D, AveragePooling2D, MaxPooling2D, Dropout, Conv2DTranspose, BatchNormalization, LeakyReLU, UpSampling2D\n",
    "from tensorflow.keras import layers, losses\n",
    "from tensorflow.keras import Model\n",
    "from tensorflow.keras.utils import to_categorical\n",
    "from tensorflow.keras.losses import categorical_crossentropy\n",
    "from sklearn.model_selection import train_test_split\n",
    "from sklearn.metrics import confusion_matrix, accuracy_score\n",
    "import matplotlib.pyplot as plt\n",
    "\n",
    "from utils.image_formatting import *\n",
    "\n",
    "%load_ext autoreload\n",
    "%autoreload 2\n",
    "\n",
    "n=64"
   ]
  },
  {
   "cell_type": "code",
   "execution_count": 2,
   "id": "e1d30a89",
   "metadata": {},
   "outputs": [
    {
     "name": "stdout",
     "output_type": "stream",
     "text": [
      "(7207, 64, 64, 3)\n",
      "(801, 64, 64, 3)\n"
     ]
    }
   ],
   "source": [
    "X, y = preprocess_images2(artists=list(PAINTER_DICT.keys()), n_imgs=1000, img_res=(n, n), dropout_rate=None)\n",
    "X_aug = np.flip(X, axis=2)\n",
    "y_aug = y\n",
    "X = np.concatenate((X, X_aug), axis=0)\n",
    "y = np.concatenate((y, y_aug), axis=0)\n",
    "X_train, X_val, _ , _ = train_test_split(X, y, test_size=0.1)   \n",
    "\n",
    "print(X_train.shape)\n",
    "print(X_val.shape)"
   ]
  },
  {
   "cell_type": "code",
   "execution_count": 3,
   "id": "aae5289f",
   "metadata": {},
   "outputs": [
    {
     "name": "stdout",
     "output_type": "stream",
     "text": [
      "Model: \"sequential\"\n",
      "_________________________________________________________________\n",
      "Layer (type)                 Output Shape              Param #   \n",
      "=================================================================\n",
      "Conv2D_1 (Conv2D)            (None, 64, 64, 32)        2432      \n",
      "_________________________________________________________________\n",
      "MaxPool_1 (MaxPooling2D)     (None, 32, 32, 32)        0         \n",
      "_________________________________________________________________\n",
      "Conv2D_2 (Conv2D)            (None, 32, 32, 64)        51264     \n",
      "_________________________________________________________________\n",
      "MaxPool_2 (MaxPooling2D)     (None, 16, 16, 64)        0         \n",
      "_________________________________________________________________\n",
      "Conv2D_3 (Conv2D)            (None, 16, 16, 128)       204928    \n",
      "_________________________________________________________________\n",
      "MaxPool_3 (MaxPooling2D)     (None, 8, 8, 128)         0         \n",
      "_________________________________________________________________\n",
      "UpSample_1 (UpSampling2D)    (None, 16, 16, 128)       0         \n",
      "_________________________________________________________________\n",
      "DeConv2D_1 (Conv2DTranspose) (None, 16, 16, 128)       409728    \n",
      "_________________________________________________________________\n",
      "UpSample_2 (UpSampling2D)    (None, 32, 32, 128)       0         \n",
      "_________________________________________________________________\n",
      "De2DTrans_2 (Conv2DTranspose (None, 32, 32, 64)        204864    \n",
      "_________________________________________________________________\n",
      "UpSample_3 (UpSampling2D)    (None, 64, 64, 64)        0         \n",
      "_________________________________________________________________\n",
      "De2DTrans_3 (Conv2DTranspose (None, 64, 64, 32)        51232     \n",
      "_________________________________________________________________\n",
      "Conv2DTrans_recon (Conv2DTra (None, 64, 64, 3)         99        \n",
      "=================================================================\n",
      "Total params: 924,547\n",
      "Trainable params: 924,547\n",
      "Non-trainable params: 0\n",
      "_________________________________________________________________\n"
     ]
    }
   ],
   "source": [
    "# accuracy reach 72%\n",
    "CAE = Sequential()\n",
    "CAE.add(Conv2D(filters=32, kernel_size=(5, 5), strides=(1,1), \n",
    "               activation='relu', \n",
    "               input_shape=(n, n, 3), \n",
    "               padding='same', name = 'Conv2D_1'))\n",
    "CAE.add(MaxPooling2D(pool_size=(2, 2), strides=(2, 2), padding='valid', name='MaxPool_1'))\n",
    "\n",
    "CAE.add(Conv2D(filters=64, kernel_size=(5, 5), strides=(1,1), \n",
    "               activation='relu', \n",
    "               padding='same', \n",
    "               name='Conv2D_2'))\n",
    "CAE.add(MaxPooling2D(pool_size=(2, 2), strides=(2, 2), padding='valid', name='MaxPool_2'))\n",
    "\n",
    "CAE.add(Conv2D(filters=128, kernel_size=(5, 5), strides=(1,1), \n",
    "               activation='relu', \n",
    "               padding='same', \n",
    "               name='Conv2D_3'))\n",
    "CAE.add(MaxPooling2D(pool_size=(2, 2), strides=(2, 2), padding='valid', name='MaxPool_3'))\n",
    "\n",
    "CAE.add(UpSampling2D(interpolation='bilinear', name='UpSample_1'))\n",
    "CAE.add(Conv2DTranspose(filters=128, kernel_size=(5, 5), strides=(1, 1), activation='relu', padding='same', name='DeConv2D_1'))\n",
    "\n",
    "CAE.add(UpSampling2D(interpolation='bilinear', name='UpSample_2'))\n",
    "CAE.add(Conv2DTranspose(filters=64, kernel_size=(5, 5), strides=(1, 1), activation='relu', padding='same', name='De2DTrans_2'))\n",
    "\n",
    "CAE.add(UpSampling2D(interpolation='bilinear', name='UpSample_3'))\n",
    "CAE.add(Conv2DTranspose(filters=32, kernel_size=(5, 5), strides=(1, 1), activation='relu', padding='same', name='De2DTrans_3'))\n",
    "\n",
    "CAE.add(Conv2DTranspose(filters=3, kernel_size=(1, 1), strides=(1, 1), activation='relu', name='Conv2DTrans_recon'))\n",
    "CAE.summary()\n",
    "CAE.compile(optimizer=tf.keras.optimizers.Adam(0.001), \n",
    "            loss=keras.losses.MeanSquaredError(), metrics=tf.keras.metrics.Accuracy())        # compile model\n"
   ]
  },
  {
   "cell_type": "code",
   "execution_count": 4,
   "id": "c8f53ddf",
   "metadata": {},
   "outputs": [
    {
     "name": "stdout",
     "output_type": "stream",
     "text": [
      "Epoch 1/30\n",
      "226/226 [==============================] - 10s 28ms/step - loss: 12969.9833 - accuracy: 0.0046 - val_loss: 1015.7183 - val_accuracy: 0.0076\n",
      "Epoch 2/30\n",
      "226/226 [==============================] - 6s 24ms/step - loss: 847.2799 - accuracy: 0.0082 - val_loss: 681.1071 - val_accuracy: 0.0132\n",
      "Epoch 3/30\n",
      "226/226 [==============================] - 6s 25ms/step - loss: 638.1961 - accuracy: 0.0135 - val_loss: 760.1333 - val_accuracy: 0.0139\n",
      "Epoch 4/30\n",
      "226/226 [==============================] - 6s 25ms/step - loss: 583.0411 - accuracy: 0.0152 - val_loss: 565.1572 - val_accuracy: 0.0143\n",
      "Epoch 5/30\n",
      "226/226 [==============================] - 6s 25ms/step - loss: 530.0696 - accuracy: 0.0146 - val_loss: 504.9337 - val_accuracy: 0.0153\n",
      "Epoch 6/30\n",
      "226/226 [==============================] - 6s 24ms/step - loss: 493.4510 - accuracy: 0.0166 - val_loss: 506.1829 - val_accuracy: 0.0154\n",
      "Epoch 7/30\n",
      "226/226 [==============================] - 6s 24ms/step - loss: 467.8986 - accuracy: 0.0157 - val_loss: 490.3684 - val_accuracy: 0.0161\n",
      "Epoch 8/30\n",
      "226/226 [==============================] - 6s 25ms/step - loss: 462.2934 - accuracy: 0.0154 - val_loss: 457.8309 - val_accuracy: 0.0159\n",
      "Epoch 9/30\n",
      "226/226 [==============================] - 6s 25ms/step - loss: 444.9068 - accuracy: 0.0159 - val_loss: 470.7465 - val_accuracy: 0.0150\n",
      "Epoch 10/30\n",
      "226/226 [==============================] - 6s 25ms/step - loss: 429.6835 - accuracy: 0.0161 - val_loss: 435.4751 - val_accuracy: 0.0161\n",
      "Epoch 11/30\n",
      "226/226 [==============================] - 6s 25ms/step - loss: 419.4203 - accuracy: 0.0155 - val_loss: 441.3967 - val_accuracy: 0.0159\n",
      "Epoch 12/30\n",
      "226/226 [==============================] - 6s 24ms/step - loss: 418.5341 - accuracy: 0.0170 - val_loss: 428.4539 - val_accuracy: 0.0159\n",
      "Epoch 13/30\n",
      "226/226 [==============================] - 6s 25ms/step - loss: 403.8939 - accuracy: 0.0162 - val_loss: 459.4127 - val_accuracy: 0.0161\n",
      "Epoch 14/30\n",
      "226/226 [==============================] - 6s 25ms/step - loss: 400.5224 - accuracy: 0.0162 - val_loss: 399.5411 - val_accuracy: 0.0161\n",
      "Epoch 15/30\n",
      "226/226 [==============================] - 6s 25ms/step - loss: 391.3976 - accuracy: 0.0165 - val_loss: 418.3292 - val_accuracy: 0.0157\n",
      "Epoch 16/30\n",
      "226/226 [==============================] - 6s 25ms/step - loss: 395.0322 - accuracy: 0.0158 - val_loss: 387.5248 - val_accuracy: 0.0159\n",
      "Epoch 17/30\n",
      "226/226 [==============================] - 6s 25ms/step - loss: 379.9251 - accuracy: 0.0168 - val_loss: 387.6333 - val_accuracy: 0.0162\n",
      "Epoch 18/30\n",
      "226/226 [==============================] - 6s 25ms/step - loss: 396.1037 - accuracy: 0.0165 - val_loss: 380.4023 - val_accuracy: 0.0163\n",
      "Epoch 19/30\n",
      "226/226 [==============================] - 6s 25ms/step - loss: 366.0465 - accuracy: 0.0165 - val_loss: 391.9070 - val_accuracy: 0.0159\n",
      "Epoch 20/30\n",
      "226/226 [==============================] - 6s 25ms/step - loss: 367.2983 - accuracy: 0.0170 - val_loss: 408.9915 - val_accuracy: 0.0160\n",
      "Epoch 21/30\n",
      "226/226 [==============================] - 6s 25ms/step - loss: 383.7369 - accuracy: 0.0160 - val_loss: 418.9538 - val_accuracy: 0.0160\n"
     ]
    }
   ],
   "source": [
    "# Train CAE (Unsupervised Training)\n",
    "callback = tf.keras.callbacks.EarlyStopping(monitor='val_loss', \n",
    "                                            min_delta = 2, \n",
    "                                            mode = 'min', \n",
    "                                            patience=3)\n",
    "CAE_train_history = CAE.fit(x=X_train, y=X_train, \n",
    "                            batch_size=32, \n",
    "                            epochs=30, \n",
    "                            validation_data=(X_val, X_val),\n",
    "                            callbacks=[callback])"
   ]
  },
  {
   "cell_type": "code",
   "execution_count": 5,
   "id": "ca4d7e18",
   "metadata": {},
   "outputs": [],
   "source": [
    "# # Save model\n",
    "# CAE_path = \"models/cae\"\n",
    "# CAE.save(CAE_path)"
   ]
  },
  {
   "cell_type": "code",
   "execution_count": 6,
   "id": "d6cc4731",
   "metadata": {},
   "outputs": [],
   "source": [
    "# from tensorflow import keras\n",
    "# CAE = keras.models.load_model('models/cae')"
   ]
  },
  {
   "cell_type": "markdown",
   "id": "ad4e902f",
   "metadata": {},
   "source": [
    "# Visualize encoded resuslts"
   ]
  },
  {
   "cell_type": "code",
   "execution_count": 7,
   "id": "38034736",
   "metadata": {},
   "outputs": [
    {
     "data": {
      "image/png": "[encoded data removed]",
      "text/plain": [
       "<PIL.Image.Image image mode=RGB size=64x64 at 0x7FC69D5572B0>"
      ]
     },
     "metadata": {},
     "output_type": "display_data"
    },
    {
     "data": {
      "image/png": "[encoded data removed]",
      "text/plain": [
       "<PIL.Image.Image image mode=RGB size=64x64 at 0x7FC69D557358>"
      ]
     },
     "metadata": {},
     "output_type": "display_data"
    },
    {
     "data": {
      "image/png": "[encoded data removed]",
      "text/plain": [
       "<PIL.Image.Image image mode=RGB size=64x64 at 0x7FC69D557E48>"
      ]
     },
     "metadata": {},
     "output_type": "display_data"
    },
    {
     "data": {
      "image/png": "[encoded data removed]",
      "text/plain": [
       "<PIL.Image.Image image mode=RGB size=64x64 at 0x7FC69D557DA0>"
      ]
     },
     "metadata": {},
     "output_type": "display_data"
    }
   ],
   "source": [
    "# show the output of reconstruction\n",
    "from PIL import Image\n",
    "import numpy as np\n",
    "\n",
    "for i in range(2):\n",
    "    original_image = Image.fromarray(X[i])\n",
    "#     original_image_path = 'comparison/original_image.png'\n",
    "#     original_image.save(original_image_path)\n",
    "    expand = np.expand_dims(X[i], 0)\n",
    "    reconstruct_output = CAE(expand).numpy().reshape((n, n, 3))\n",
    "    output_max = np.max(reconstruct_output)\n",
    "    output_min = np.min(reconstruct_output)\n",
    "    reconstruct_output = (reconstruct_output - output_min) / (output_max - output_min) * (n-1)\n",
    "    reconstruct_output = reconstruct_output.astype(np.uint8)\n",
    "    reconstruct_image = Image.fromarray(reconstruct_output)\n",
    "#     reconstruct_image_path = 'comparison/reconstruct_image.png'\n",
    "#     reconstruct_image.save(reconstruct_image_path)\n",
    "    \n",
    "    original_image.show()\n",
    "    reconstruct_image.show()"
   ]
  },
  {
   "cell_type": "markdown",
   "id": "0e8a3e9b",
   "metadata": {},
   "source": [
    "# Train Fully Connected Layers"
   ]
  },
  {
   "cell_type": "code",
   "execution_count": 8,
   "id": "5737b7bc",
   "metadata": {},
   "outputs": [
    {
     "name": "stdout",
     "output_type": "stream",
     "text": [
      "(2565, 64, 64, 3) (2565,)\n",
      "(285, 64, 64, 3) (285,)\n"
     ]
    }
   ],
   "source": [
    "# Use the hyperparameter learned from CAE and classify the paints\n",
    "# artists = ['pierre-auguste-renoir', 'vincent-van-gogh', 'pablo-picasso']\n",
    "artists = ['rembrandt', 'pierre-auguste-renoir', 'vincent-van-gogh']\n",
    "# artists=list(PAINTER_DICT.keys())\n",
    "\n",
    "X, y = preprocess_images2(artists=artists, n_imgs=1000, img_res = (n,n), dropout_rate=0)\n",
    "X_aug = np.flip(X, axis=2)\n",
    "y_aug = y\n",
    "X = np.concatenate((X, X_aug), axis=0)\n",
    "y = np.concatenate((y, y_aug), axis=0)\n",
    "X_train, X_val, y_train, y_val = train_test_split(X, y, test_size=0.1)\n",
    "\n",
    "\n",
    "print(X_train.shape, y_train.shape)\n",
    "print(X_val.shape, y_val.shape)"
   ]
  },
  {
   "cell_type": "code",
   "execution_count": 51,
   "id": "030b9f36",
   "metadata": {},
   "outputs": [
    {
     "name": "stdout",
     "output_type": "stream",
     "text": [
      "Model: \"model_6\"\n",
      "_________________________________________________________________\n",
      "Layer (type)                 Output Shape              Param #   \n",
      "=================================================================\n",
      "Conv2D_1_input (InputLayer)  [(None, 64, 64, 3)]       0         \n",
      "_________________________________________________________________\n",
      "Conv2D_1 (Conv2D)            (None, 64, 64, 32)        2432      \n",
      "_________________________________________________________________\n",
      "MaxPool_1 (MaxPooling2D)     (None, 32, 32, 32)        0         \n",
      "_________________________________________________________________\n",
      "Conv2D_2 (Conv2D)            (None, 32, 32, 64)        51264     \n",
      "_________________________________________________________________\n",
      "MaxPool_2 (MaxPooling2D)     (None, 16, 16, 64)        0         \n",
      "_________________________________________________________________\n",
      "Conv2D_3 (Conv2D)            (None, 16, 16, 128)       204928    \n",
      "_________________________________________________________________\n",
      "MaxPool_3 (MaxPooling2D)     (None, 8, 8, 128)         0         \n",
      "_________________________________________________________________\n",
      "UpSample_1 (UpSampling2D)    (None, 16, 16, 128)       0         \n",
      "_________________________________________________________________\n",
      "DeConv2D_1 (Conv2DTranspose) (None, 16, 16, 128)       409728    \n",
      "_________________________________________________________________\n",
      "sequential_7 (Sequential)    (None, 3)                 8425987   \n",
      "=================================================================\n",
      "Total params: 9,094,339\n",
      "Trainable params: 8,425,987\n",
      "Non-trainable params: 668,352\n",
      "_________________________________________________________________\n"
     ]
    }
   ],
   "source": [
    "cae_output = Model(inputs = CAE.input, outputs = CAE.layers[-6].output, name = 'cae_output')\n",
    "for layer in cae_output.layers:\n",
    "    layer.trainable = False\n",
    "following_layers = Sequential()\n",
    "input_shape = (cae_output.output.shape[1], cae_output.output.shape[2], cae_output.output.shape[3])\n",
    "following_layers.add(tf.keras.layers.Input(shape=input_shape))\n",
    "following_layers.add(Flatten(name = 'flatten'))\n",
    "following_layers.add(Dropout(0.1, name = \"Dropout_1\"))\n",
    "following_layers.add(Dense(256, \n",
    "#                            activation = 'relu', \n",
    "                           kernel_regularizer = 'l2', \n",
    "#                            bias_regularizer = 'l2', \n",
    "                           name = \"Dense_1\"))\n",
    "following_layers.add(LeakyReLU(0.05))\n",
    "\n",
    "following_layers.add(Dense(128, \n",
    "#                            activation = 'relu', \n",
    "                           kernel_regularizer = 'l2', \n",
    "#                            bias_regularizer = 'l2', \n",
    "                           name = \"Dense_2\"))\n",
    "following_layers.add(LeakyReLU(0.05))\n",
    "\n",
    "following_layers.add(Dense(32, \n",
    "#                            activation = 'relu', \n",
    "                           kernel_regularizer = 'l2', \n",
    "#                            bias_regularizer = 'l2', \n",
    "                           name = \"Dense_3\"))\n",
    "following_layers.add(LeakyReLU(0.05))\n",
    "\n",
    "following_layers.add(Dense(3, activation = 'softmax', name = \"softmax\"))\n",
    "painter_classifier = Model(inputs = cae_output.inputs, outputs = following_layers(cae_output.output))\n",
    "painter_classifier.summary()\n",
    "painter_classifier.compile(optimizer = tf.keras.optimizers.Adam(0.001),\n",
    "                           loss = 'sparse_categorical_crossentropy', \n",
    "                           metrics = ['accuracy'])\n"
   ]
  },
  {
   "cell_type": "code",
   "execution_count": 52,
   "id": "a2b85980",
   "metadata": {
    "scrolled": false
   },
   "outputs": [
    {
     "name": "stdout",
     "output_type": "stream",
     "text": [
      "Epoch 1/30\n",
      "81/81 [==============================] - 1s 10ms/step - loss: 28.0122 - accuracy: 0.4975 - val_loss: 7.5959 - val_accuracy: 0.5930\n",
      "Epoch 2/30\n",
      "81/81 [==============================] - 1s 8ms/step - loss: 6.9744 - accuracy: 0.6441 - val_loss: 10.3781 - val_accuracy: 0.4982\n",
      "Epoch 3/30\n",
      "81/81 [==============================] - 1s 8ms/step - loss: 7.0148 - accuracy: 0.6558 - val_loss: 4.4880 - val_accuracy: 0.7228\n",
      "Epoch 4/30\n",
      "81/81 [==============================] - 1s 8ms/step - loss: 3.9975 - accuracy: 0.7845 - val_loss: 3.7859 - val_accuracy: 0.7439\n",
      "Epoch 5/30\n",
      "81/81 [==============================] - 1s 8ms/step - loss: 3.7663 - accuracy: 0.7752 - val_loss: 3.7029 - val_accuracy: 0.7474\n",
      "Epoch 6/30\n",
      "81/81 [==============================] - 1s 8ms/step - loss: 3.1831 - accuracy: 0.8297 - val_loss: 3.4353 - val_accuracy: 0.7825\n",
      "Epoch 7/30\n",
      "81/81 [==============================] - 1s 8ms/step - loss: 3.2673 - accuracy: 0.7698 - val_loss: 3.5307 - val_accuracy: 0.7193\n",
      "Epoch 8/30\n",
      "81/81 [==============================] - 1s 8ms/step - loss: 2.9345 - accuracy: 0.8049 - val_loss: 3.2454 - val_accuracy: 0.7053\n",
      "Epoch 9/30\n",
      "81/81 [==============================] - 1s 10ms/step - loss: 2.8380 - accuracy: 0.7997 - val_loss: 3.1606 - val_accuracy: 0.6877\n",
      "Epoch 10/30\n",
      "81/81 [==============================] - 1s 8ms/step - loss: 2.4141 - accuracy: 0.8439 - val_loss: 2.8891 - val_accuracy: 0.7298\n",
      "Epoch 11/30\n",
      "81/81 [==============================] - 1s 8ms/step - loss: 2.5139 - accuracy: 0.8171 - val_loss: 2.5668 - val_accuracy: 0.7860\n"
     ]
    }
   ],
   "source": [
    "callback = tf.keras.callbacks.EarlyStopping(monitor='val_accuracy', \n",
    "                                            min_delta = 0.005, \n",
    "                                            mode = 'max', \n",
    "                                            patience=5)\n",
    "cae_training_history = painter_classifier.fit(x=X_train, y=y_train, \n",
    "                                              batch_size=32, epochs=30, \n",
    "                                              validation_data=(X_val, y_val),\n",
    "                                              callbacks = [callback])"
   ]
  },
  {
   "cell_type": "code",
   "execution_count": null,
   "id": "2d43ab96",
   "metadata": {},
   "outputs": [],
   "source": []
  },
  {
   "cell_type": "markdown",
   "id": "2be491db",
   "metadata": {},
   "source": [
    "# Testing"
   ]
  },
  {
   "cell_type": "code",
   "execution_count": 53,
   "id": "a07d23cd",
   "metadata": {},
   "outputs": [
    {
     "name": "stdout",
     "output_type": "stream",
     "text": [
      "(75, 64, 64, 3) (75,)\n"
     ]
    }
   ],
   "source": [
    "# artists = ['rembrandt', 'pierre-auguste-renoir', 'vincent-van-gogh']\n",
    "\n",
    "X_true, y_true = preprocess_images2(artists=artists, n_imgs=25, img_res=(n,n), test_set=True)\n",
    "\n",
    "print(X_true.shape, y_true.shape)"
   ]
  },
  {
   "cell_type": "code",
   "execution_count": 54,
   "id": "98c341f4",
   "metadata": {},
   "outputs": [
    {
     "name": "stdout",
     "output_type": "stream",
     "text": [
      "WARNING:tensorflow:5 out of the last 13 calls to <function Model.make_predict_function.<locals>.predict_function at 0x7fc69d617c80> triggered tf.function retracing. Tracing is expensive and the excessive number of tracings could be due to (1) creating @tf.function repeatedly in a loop, (2) passing tensors with different shapes, (3) passing Python objects instead of tensors. For (1), please define your @tf.function outside of the loop. For (2), @tf.function has experimental_relax_shapes=True option that relaxes argument shapes that can avoid unnecessary retracing. For (3), please refer to https://www.tensorflow.org/guide/function#controlling_retracing and https://www.tensorflow.org/api_docs/python/tf/function for  more details.\n"
     ]
    }
   ],
   "source": [
    "y_pred = painter_classifier.predict(X_true)\n",
    "y_pred = np.argmax(y_pred, axis = 1)"
   ]
  },
  {
   "cell_type": "code",
   "execution_count": 55,
   "id": "379a569c",
   "metadata": {},
   "outputs": [
    {
     "data": {
      "text/plain": [
       "array([[20,  1,  4],\n",
       "       [ 4, 17,  4],\n",
       "       [ 4,  1, 20]])"
      ]
     },
     "execution_count": 55,
     "metadata": {},
     "output_type": "execute_result"
    }
   ],
   "source": [
    "confusion_matrix(y_true, y_pred)"
   ]
  },
  {
   "cell_type": "code",
   "execution_count": 56,
   "id": "f6e12ce0",
   "metadata": {},
   "outputs": [
    {
     "data": {
      "text/plain": [
       "0.76"
      ]
     },
     "execution_count": 56,
     "metadata": {},
     "output_type": "execute_result"
    }
   ],
   "source": [
    "accuracy_score(y_true, y_pred)"
   ]
  },
  {
   "cell_type": "code",
   "execution_count": null,
   "id": "97e6721a",
   "metadata": {},
   "outputs": [],
   "source": []
  }
 ],
 "metadata": {
  "kernelspec": {
   "display_name": "Python 3",
   "language": "python",
   "name": "python3"
  },
  "language_info": {
   "codemirror_mode": {
    "name": "ipython",
    "version": 3
   },
   "file_extension": ".py",
   "mimetype": "text/x-python",
   "name": "python",
   "nbconvert_exporter": "python",
   "pygments_lexer": "ipython3",
   "version": "3.6.9"
  }
 },
 "nbformat": 4,
 "nbformat_minor": 5
}
