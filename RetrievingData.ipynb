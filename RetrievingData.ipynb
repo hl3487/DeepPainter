{
 "cells": [
  {
   "cell_type": "code",
   "execution_count": 3,
   "id": "4a9093e6",
   "metadata": {},
   "outputs": [],
   "source": [
    "# import utility functions\n",
    "from utils.image_scrape import *\n",
    "from utils.image_formatting import *\n",
    "\n",
    "%load_ext autoreload\n",
    "%autoreload 2"
   ]
  },
  {
   "cell_type": "code",
   "execution_count": null,
   "id": "62d5d001",
   "metadata": {},
   "outputs": [
    {
     "name": "stdout",
     "output_type": "stream",
     "text": [
      "Retrieving links for: pablo-picasso\n",
      "Retrieving links for: claude-monet\n",
      "Retrieving links for: vincent-van-gogh\n",
      "Retrieving links for: william-turner\n"
     ]
    }
   ],
   "source": [
    "artists = ['pablo-picasso', 'claude-monet', 'vincent-van-gogh', 'william-turner', \n",
    "           'pierre-auguste-renoir', 'paul-cezanne', 'edouard-manet', 'jacques-louis-david',\n",
    "           'gustave-courbet', 'eugene-delacroix', 'rembrandt']   # define artists\n",
    "\n",
    "get_image_urls(num_links=500, artists=artists)                      # download links to images"
   ]
  },
  {
   "cell_type": "code",
   "execution_count": null,
   "id": "3cfa6eca",
   "metadata": {},
   "outputs": [],
   "source": [
    "download_data(artists=artists, images_per_artist=500)               # download images at links\n",
    "\n",
    "show_image('data/images/pablo-picasso/0.jpg')                     # show downloaded images\n",
    "show_image('data/images/claude-monet/0.jpg')\n",
    "show_image('data/images/vincent-van-gogh/0.jpg')"
   ]
  },
  {
   "cell_type": "code",
   "execution_count": null,
   "id": "cc6ca07f",
   "metadata": {},
   "outputs": [],
   "source": [
    "resolution = (64, 64)                                        # specify resolution\n",
    "\n",
    "standardize_images(artists=artists, resolution=resolution)     # pad and resize images\n",
    "\n",
    "show_image('data/images/pablo-picasso/0.jpg')\n",
    "show_image('data/images/pablo-picasso_standardized/0.jpg')"
   ]
  },
  {
   "cell_type": "code",
   "execution_count": null,
   "id": "158798fc",
   "metadata": {},
   "outputs": [],
   "source": [
    "artists = ['paul-gauguin', 'pyotr-konchalovsky', 'gerard-van-honthorst']\n",
    "get_image_urls(num_links=500, artists=artists)"
   ]
  },
  {
   "cell_type": "code",
   "execution_count": null,
   "id": "bf1aa30d",
   "metadata": {},
   "outputs": [],
   "source": [
    "download_data(artists=artists, images_per_artist=500)               # download images at links\n",
    "\n",
    "show_image('data/images/paul-gauguin/0.jpg')                     # show downloaded images\n",
    "show_image('data/images/pyotr-konchalovsky/0.jpg')\n",
    "show_image('data/images/gerard-van-honthorst/0.jpg')"
   ]
  },
  {
   "cell_type": "code",
   "execution_count": null,
   "id": "215c5b16",
   "metadata": {},
   "outputs": [],
   "source": [
    "resolution = (256, 256)                                        # specify resolution\n",
    "\n",
    "standardize_images(artists=artists, resolution=resolution)     # pad and resize images\n",
    "\n",
    "show_image('data/images/paul-gauguin/0.jpg')\n",
    "show_image('data/images/paul-gauguin_standardized/0.jpg')"
   ]
  },
  {
   "cell_type": "code",
   "execution_count": null,
   "id": "977ae3c3",
   "metadata": {},
   "outputs": [],
   "source": []
  },
  {
   "cell_type": "code",
   "execution_count": null,
   "id": "6c569e4e",
   "metadata": {},
   "outputs": [],
   "source": []
  }
 ],
 "metadata": {
  "kernelspec": {
   "display_name": "Python 3",
   "language": "python",
   "name": "python3"
  },
  "language_info": {
   "codemirror_mode": {
    "name": "ipython",
    "version": 3
   },
   "file_extension": ".py",
   "mimetype": "text/x-python",
   "name": "python",
   "nbconvert_exporter": "python",
   "pygments_lexer": "ipython3",
   "version": "3.6.9"
  }
 },
 "nbformat": 4,
 "nbformat_minor": 5
}
